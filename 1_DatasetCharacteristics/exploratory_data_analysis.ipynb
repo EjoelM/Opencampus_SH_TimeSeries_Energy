{
 "cells": [
  {
   "cell_type": "markdown",
   "metadata": {},
   "source": [
    "# Exploratory Data Analysis (EDA)\n",
    "\n",
    "## Table of Contents\n",
    "1. [Dataset Overview](#dataset-overview)\n",
    "2. [Handling Missing Values](#handling-missing-values)\n",
    "3. [Feature Distributions](#feature-distributions)\n",
    "4. [Possible Biases](#possible-biases)\n",
    "5. [Correlations](#correlations)\n"
   ]
  },
  {
   "cell_type": "code",
   "execution_count": 1,
   "metadata": {
    "ExecuteTime": {
     "end_time": "2024-01-28T10:48:30.793727100Z",
     "start_time": "2024-01-28T10:48:30.769511800Z"
    }
   },
   "outputs": [],
   "source": [
    "import matplotlib.pyplot as plt\n",
    "import seaborn as sns\n",
    "# import sys\n",
    "# sys.path.append(\"../\")\n",
    "from Data.load_data import get_energy_data\n",
    "import numpy as np\n",
    "import datetime"
   ]
  },
  {
   "cell_type": "markdown",
   "metadata": {},
   "source": [
    "## Dataset Overview\n",
    "\n",
    "### An important feature of the electricity load is multilevel seasonality.\n",
    "The German electric data, which include production from thermal energy and network feed-in from renewable energy, is publicly available at European Network of Transmission System Operators for electricity [ENTSO-E](https://energy-charts.info/charts/power/chart.htm?l=en&c=DE&source=entsoe). We used the data source https://www.energy-charts.info/ for downloading the data.\n",
    "We analyze the German load data from January 1, 2017 to December 31, 2019. To avoid daylight savings, our time variable is at Coordinated Universal Time (UTC). The data is provided in megawatt and we converted the data to hourly data. We also loaded the mean temperature from Germany which could be used as exogenous variable."
   ]
  },
  {
   "cell_type": "code",
   "execution_count": 2,
   "metadata": {
    "ExecuteTime": {
     "end_time": "2024-01-28T10:48:31.583418900Z",
     "start_time": "2024-01-28T10:48:30.774581400Z"
    }
   },
   "outputs": [
    {
     "name": "stdout",
     "output_type": "stream",
     "text": [
      "Number of samples: 26280\n",
      "Number of features: 2\n",
      "Example data:\n",
      "                               Load  Temperature\n",
      "Date (UTC)                                      \n",
      "2016-12-31 23:00:00+00:00  188528.8         -2.2\n",
      "2017-01-01 00:00:00+00:00  183256.4         -2.4\n",
      "2017-01-01 01:00:00+00:00  177785.3         -2.5\n",
      "2017-01-01 02:00:00+00:00  172906.9         -2.7\n",
      "2017-01-01 03:00:00+00:00  169715.8         -2.8\n",
      "Summary of the whole dataset:\n",
      "                Load   Temperature\n",
      "count   26280.000000  26280.000000\n",
      "mean   230154.968577     10.065864\n",
      "std     40283.403655      7.794075\n",
      "min    136760.700000    -12.700000\n",
      "25%    196116.100000      3.900000\n",
      "50%    229099.700000      9.700000\n",
      "75%    264787.250000     15.800000\n",
      "max    319754.600000     34.500000\n"
     ]
    }
   ],
   "source": [
    "df = get_energy_data()\n",
    "\n",
    "# Number of samples\n",
    "num_samples = df.shape[0]\n",
    "\n",
    "# Number of features\n",
    "num_features = df.shape[1]\n",
    "\n",
    "# Display these dataset characteristics\n",
    "print(f\"Number of samples: {num_samples}\")\n",
    "print(f\"Number of features: {num_features}\")\n",
    "\n",
    "# Display the first few rows of the dataframe to show the structure\n",
    "print(\"Example data:\")\n",
    "print(df.head())\n",
    "\n",
    "print(\"Summary of the whole dataset:\")\n",
    "print(df.describe())"
   ]
  },
  {
   "cell_type": "code",
   "execution_count": 6,
   "metadata": {
    "ExecuteTime": {
     "end_time": "2024-01-28T10:49:21.123504600Z",
     "start_time": "2024-01-28T10:49:21.023785800Z"
    }
   },
   "outputs": [
    {
     "name": "stdout",
     "output_type": "stream",
     "text": [
      "Summary of 2017:\n",
      "                Load  Temperature\n",
      "count    8760.000000  8760.000000\n",
      "mean   230900.882374     9.551358\n",
      "std     41101.934405     7.466329\n",
      "min    140005.400000   -11.000000\n",
      "25%    195861.725000     3.700000\n",
      "50%    230156.000000     9.500000\n",
      "75%    265924.300000    15.200000\n",
      "max    317621.400000    29.000000\n",
      "Summary of 2018:\n",
      "                Load  Temperature\n",
      "count    8760.000000  8760.000000\n",
      "mean   232490.582340    10.455879\n",
      "std     39994.572636     8.391531\n",
      "min    144306.500000   -12.700000\n",
      "25%    198815.650000     3.575000\n",
      "50%    231568.950000    10.200000\n",
      "75%    266997.725000    16.800000\n",
      "max    319754.600000    32.600000\n",
      "Summary of 2019:\n",
      "                Load  Temperature\n",
      "count    8759.000000  8759.000000\n",
      "mean   227077.841592    10.191768\n",
      "std     39549.884871     7.459844\n",
      "min    136760.700000    -7.000000\n",
      "25%    193756.750000     4.200000\n",
      "50%    225203.900000     9.500000\n",
      "75%    261618.750000    15.500000\n",
      "max    307605.800000    34.500000\n"
     ]
    }
   ],
   "source": [
    "print(\"Summary of 2017:\")\n",
    "print(df[(df.index >= datetime.datetime(2017,1,1, tzinfo = datetime.timezone.utc)) & (df.index < datetime.datetime(2018,1,1, tzinfo = datetime.timezone.utc))].describe())\n",
    "print(\"Summary of 2018:\")\n",
    "print(df[(df.index >= datetime.datetime(2018,1,1, tzinfo = datetime.timezone.utc)) & (df.index < datetime.datetime(2019,1,1, tzinfo = datetime.timezone.utc))].describe())\n",
    "print(\"Summary of 2019:\")\n",
    "print(df[(df.index >= datetime.datetime(2019,1,1, tzinfo = datetime.timezone.utc)) & (df.index < datetime.datetime(2020,1,1, tzinfo = datetime.timezone.utc))].describe())"
   ]
  },
  {
   "cell_type": "markdown",
   "metadata": {},
   "source": [
    "* Figure 1 shows seasonal and the weekly pattern of the consumption throughout the year.\n",
    "* By seasons, the electricity load shows maximum values in winter and summer and minimum values in the transition periods, that is, spring and autumn.\n",
    "* The electricity demand presents a weekly seasonality with minimum values on Sundays (the large falls observed in the curve each seven days)."
   ]
  },
  {
   "cell_type": "code",
   "execution_count": null,
   "metadata": {
    "ExecuteTime": {
     "start_time": "2024-01-28T10:48:31.592151700Z"
    }
   },
   "outputs": [],
   "source": [
    "plt.figure(figsize=(18, 10))\n",
    "plt.suptitle('Figure 1: German hourly electricity load', fontsize=16)\n",
    "\n",
    "plt.subplot(2, 1, 1)\n",
    "plt.plot(df['Load'])\n",
    "plt.gcf().autofmt_xdate()\n",
    "\n",
    "start_date = '2018-09-01'\n",
    "end_date = '2018-10-01'\n",
    "filtered_data = df[(df.index >= start_date) & (df.index <= end_date)]\n",
    "plt.subplot(2, 1, 2)\n",
    "plt.plot(filtered_data['Load'])\n",
    "plt.gcf().autofmt_xdate()\n",
    "\n",
    "footnote_text = 'Upper picture plots data for the whole period and lower picture plots data for a randomly selected subperiod of weeks.'\n",
    "plt.figtext(0.5, 0.01, footnote_text, wrap=True, horizontalalignment='center', fontsize=10)\n",
    "\n",
    "plt.tight_layout(rect=[0, 0.03, 1, 0.95])\n",
    "plt.show()"
   ]
  },
  {
   "cell_type": "code",
   "execution_count": null,
   "metadata": {
    "ExecuteTime": {
     "start_time": "2024-01-28T10:48:31.596680600Z"
    }
   },
   "outputs": [],
   "source": [
    "start_date = '2018-05-01'\n",
    "end_date = '2019-05-01'\n",
    "filtered_data = df[(df.index >= start_date) & (df.index <= end_date)]\n",
    "\n",
    "# Seasonal Comparison (Winter vs. Summer)\n",
    "winter_data = filtered_data[(filtered_data.index.month.isin([12, 1, 2]))]  # Filtering for December, January, February\n",
    "summer_data = filtered_data[(filtered_data.index.month.isin([6, 7, 8]))]  # Filtering for June, July, August\n",
    "\n",
    "# Filter data for Weekdays and Weekends\n",
    "df['Weekday'] = df.index.weekday\n",
    "df['Week'] = 'Weekday'\n",
    "df.loc[df['Weekday'] >= 5, 'Week'] = 'Weekend'\n",
    "\n",
    "# Filter data for Saturdays and Sundays\n",
    "saturday = filtered_data[filtered_data.index.weekday == 5]\n",
    "sunday = filtered_data[filtered_data.index.weekday == 6]\n",
    "\n",
    "fig = plt.figure(figsize=(12, 6))\n",
    "ax1 = fig.add_subplot(2, 2, (1, 2))\n",
    "ax2 = fig.add_subplot(2, 2, 3)\n",
    "ax3 = fig.add_subplot(2, 2, 4)\n",
    "\n",
    "# Subplot 1: Electricity Consumption - Winter vs. Summer\n",
    "ax1.hist([winter_data['Load'], summer_data['Load']], bins=20, color=['blue', 'orange'], label=['Winter', 'Summer'])\n",
    "ax1.set_title('Figure 2: Electricity Consumption: Winter vs. Summer')\n",
    "ax1.set_xlabel('Electricity Consumption')\n",
    "ax1.set_ylabel('Frequency')\n",
    "ax1.legend()\n",
    "\n",
    "# Subplot 2: Weekly Demand Profile - Weekdays vs. Weekends\n",
    "sns.boxplot(x='Week', y='Load', data=df, ax=ax2, palette='Set2')\n",
    "ax2.set_title('Figure 3: Weekly Demand Profile (Weekdays vs. Weekends)')\n",
    "ax2.set_xlabel('Day Type')\n",
    "ax2.set_ylabel('Electricity Consumption')\n",
    "\n",
    "# Subplot 3: Weekend Demand Profile - Saturdays vs. Sundays\n",
    "ax3.boxplot([saturday['Load'], sunday['Load']], labels=['Saturdays', 'Sundays'])\n",
    "ax3.set_title('Figure 4: Weekend Demand Profile (Saturdays vs. Sundays)')\n",
    "ax3.set_xlabel('Day Type')\n",
    "ax3.set_ylabel('Electricity Consumption')\n",
    "\n",
    "plt.tight_layout()\n",
    "plt.show()"
   ]
  },
  {
   "cell_type": "markdown",
   "metadata": {},
   "source": [
    "* The energy consumption is higher during winter than during summer.\n",
    "* The weekly demand profile exhibits lower consumption during weekends, where Saturday is different from Sunday.\n",
    "* Set dummy variables\n",
    "  * month $(M_i)$, where $i$ = 1 (Jan.), 2 (Feb.), ..., 11 (Nov.), 0 (Dec.) \\\\\n",
    "  * week $(W_j)$, where $j$ = 1 (Mon),..., 6 (Sat), 0 (Sun)"
   ]
  },
  {
   "cell_type": "markdown",
   "metadata": {},
   "source": [
    "Hours of Daylight (HDL) is a useful variable in modelling UK load series. Therefore consider this variable also. First calculate the sun’s inclination angle\n",
    "\n",
    " $\\lambda_t = 0.4102\\sin (\\frac{2\\pi}{365}(d_t − 80.25)),$where $d_t \\in \\left [  1,365 \\right ]$ and 1 represent January 1st, etc.\n",
    "\n",
    " Next calculate HDL from\n",
    "\n",
    " $7.722\\arccos ( -\\tan  \\frac{2\\pi \\delta}{360} tan(\\lambda_t)),$ where $\\delta$ is the latitude. The latitude we used for Germany is 52&deg;"
   ]
  },
  {
   "cell_type": "code",
   "execution_count": null,
   "metadata": {
    "ExecuteTime": {
     "start_time": "2024-01-28T10:48:31.598681Z"
    }
   },
   "outputs": [],
   "source": [
    "latitude = 52\n",
    "days_of_year = range(1, 366)\n",
    "lambda_t_value = [0.4102 * np.sin(2 * np.pi / 365 * (dt - 80.25)) for dt in days_of_year]\n",
    "HDL_t = [7.722 * np.arccos(-np.tan(2 * np.pi * latitude / 360) * np.tan(lambda_t)) for lambda_t in lambda_t_value]\n",
    "df_daily = df.resample('D').agg({'Load': 'sum', 'Temperature': 'mean', 'Weekday': 'mean'})\n",
    "df_daily['Weekday'] = df_daily['Weekday'].astype(int)\n",
    "df_daily = df_daily.iloc[1:]\n",
    "HDL = np.tile(HDL_t, 3)\n",
    "df_daily['HDL'] = HDL[:len(df_daily)]\n",
    "\n",
    "plt.figure(figsize=(4, 4))\n",
    "plt.scatter(df_daily['HDL'], df_daily['Load'], alpha=0.5, s=3)\n",
    "x = df_daily['HDL']\n",
    "y = df_daily['Load']\n",
    "m, b = np.polyfit(x, y, 1)  # Fit a first-degree polynomial (linear)\n",
    "plt.plot(x, m*x + b, color='red', label='Trend line')\n",
    "\n",
    "plt.title('Relationship between Electricity Consumption and Hours of Daylight')\n",
    "plt.xlabel('Hours of Daylight')\n",
    "plt.ylabel('Electricity Consumption')\n",
    "plt.show()"
   ]
  },
  {
   "cell_type": "markdown",
   "metadata": {},
   "source": [
    "* The graph exhibits the inverse relation between consumption and hours of daylight.\n",
    "* Set variable for the hours of daylight: $HDL_t$"
   ]
  },
  {
   "cell_type": "markdown",
   "metadata": {},
   "source": [
    "Incorporating religious and public holidays effects is important in creating load forecast, because load is usually lower during holidays"
   ]
  },
  {
   "cell_type": "code",
   "execution_count": null,
   "metadata": {
    "ExecuteTime": {
     "start_time": "2024-01-28T10:48:31.600679700Z"
    }
   },
   "outputs": [],
   "source": [
    "start_date = '2018-03-01'\n",
    "end_date = '2019-03-01'\n",
    "filtered_data = df_daily[(df_daily.index >= start_date) & (df_daily.index <= end_date)]\n",
    "\n",
    "plt.figure(figsize=(18, 6))\n",
    "plt.plot(filtered_data.index, filtered_data['Load'], color='blue')\n",
    "plt.title('Electricity Consumption')\n",
    "plt.xlabel('Date')\n",
    "plt.ylabel('Electricity Consumption')\n",
    "plt.axvspan('2018-03-31', '2018-04-02', color='green', alpha=0.3, label='Easter')\n",
    "plt.axvspan('2018-05-30', '2018-05-31', color='purple', alpha=0.3, label='Corpus Christi')\n",
    "plt.axvspan('2018-08-15', '2018-08-16', color='yellow', alpha=0.3, label='Assumption of Mary')\n",
    "plt.axvspan('2018-10-02', '2018-10-04', color='blue', alpha=0.3, label='Unity day')\n",
    "plt.axvspan('2018-12-24', '2018-12-26', color='red', alpha=0.3, label='Chrismas')\n",
    "plt.axvspan('2018-12-31', '2019-01-03', color='pink', alpha=0.3, label='New year')\n",
    "plt.legend()\n",
    "plt.grid(True)\n",
    "plt.gcf().autofmt_xdate()\n",
    "\n",
    "plt.show()"
   ]
  },
  {
   "cell_type": "markdown",
   "metadata": {},
   "source": [
    "* Public holidays and regional holidays have different impacts on the load.\n",
    "* Set dummy variables for holidays\n",
    "  * $PH_t$ for public holidays\n",
    "  * $LH_t$ for local holidays\n",
    "  * $H_{t-1}$ for the effect on adjacent days"
   ]
  },
  {
   "cell_type": "markdown",
   "metadata": {},
   "source": [
    "There are several weather variables that are likely to affect electric consumption. Temperature is most commonly used by researchers.\n",
    "\n",
    "Data of hourly average temperature is the arithmetic mean of all stations, obtained from [Deutscher Wetterdienst DWD, Climate Data Center (CDC)](https://energy-charts.info/charts/climate_hours/chart.htm?l=en&c=DE&interval=year&source=air_temperature)"
   ]
  },
  {
   "cell_type": "code",
   "execution_count": null,
   "metadata": {
    "ExecuteTime": {
     "start_time": "2024-01-28T10:48:31.604197200Z"
    }
   },
   "outputs": [],
   "source": [
    "plt.figure(figsize=(18, 10))\n",
    "plt.suptitle('Figure 5: German hourly electricity load and temperature over the whole sample', fontsize=16)\n",
    "\n",
    "# Subplot 1: Electricity Load\n",
    "plt.subplot(2, 1, 1)\n",
    "plt.plot(df['Load'])\n",
    "plt.ylabel('Electricity Load')\n",
    "\n",
    "# Subplot 2: Temperature\n",
    "plt.subplot(2, 1, 2)\n",
    "plt.plot(df['Temperature'], color='orange')  # Change the color if needed\n",
    "plt.ylabel('Temperature')\n",
    "plt.gcf().autofmt_xdate()\n",
    "\n",
    "footnote_text = 'Upper picture plots data for electricity load and lower picture plots data for temperature.'\n",
    "plt.figtext(0.5, 0.01, footnote_text, wrap=True, horizontalalignment='center', fontsize=10)\n",
    "\n",
    "plt.tight_layout(rect=[0, 0.03, 1, 0.95])\n",
    "plt.show()"
   ]
  },
  {
   "cell_type": "markdown",
   "metadata": {},
   "source": [
    "* As Figure 5 can be observed, temperature and electricity consumption have strong seasonal character, but move in opposite direction.\n",
    "* Maximum electricity demand values are observed when maximum (summer) and minimum (winter) temperatures take place. The monthly peak electricity demand in winter is more important than that in summer."
   ]
  },
  {
   "cell_type": "code",
   "execution_count": null,
   "metadata": {
    "ExecuteTime": {
     "start_time": "2024-01-28T10:48:31.608207800Z"
    }
   },
   "outputs": [],
   "source": [
    "plt.figure(figsize=(10, 4))\n",
    "plt.scatter(df['Temperature'], df['Load'], alpha=0.5, s=1)\n",
    "plt.title('Figure 6: Relationship between Temperature and Electricity Consumption')\n",
    "plt.xlabel('Temperature')\n",
    "plt.ylabel('Electricity Consumption')\n",
    "\n",
    "# Fitting a polynomial trend line (adjust the degree as needed)\n",
    "degree = 2  # Example degree for the polynomial\n",
    "p = np.poly1d(np.polyfit(df['Temperature'], df['Load'], degree))\n",
    "plt.plot(df['Temperature'], p(df['Temperature']), color='red', label=f'Trend line (degree={degree})')\n",
    "plt.legend()\n",
    "plt.show()"
   ]
  },
  {
   "cell_type": "markdown",
   "metadata": {},
   "source": [
    "However, the dependency of load on temperature is not linear. There are several options to model the temperature: One of them is quadratic function. The traditional and most used approach is to divide the model into two linear parts by transforming the average temperature to Heating Degree Days (HDD) and Cooling Degree Days (CDD)."
   ]
  },
  {
   "cell_type": "code",
   "execution_count": null,
   "metadata": {
    "ExecuteTime": {
     "end_time": "2024-01-28T10:48:31.725056600Z",
     "start_time": "2024-01-28T10:48:31.611209300Z"
    }
   },
   "outputs": [],
   "source": [
    "data_below_15 = df_daily[df_daily['Temperature'] < 15]\n",
    "data_over_15 = df_daily[df_daily['Temperature'] >= 15]\n",
    "\n",
    "# Set up subplots\n",
    "fig, axs = plt.subplots(1, 2, figsize=(12, 4))\n",
    "\n",
    "axs[0].scatter(data_below_15['Temperature'], data_below_15['Load'], alpha=0.5, label='Data', s=1)\n",
    "x = data_below_15['Temperature']\n",
    "y = data_below_15['Load']\n",
    "m, b = np.polyfit(x, y, 1)\n",
    "axs[0].plot(x, m*x + b, color='red', label='Trend line')\n",
    "axs[0].set_title('Temperature (<15°C) vs Electricity Consumption')\n",
    "axs[0].set_xlabel('Temperature (<15°C)')\n",
    "axs[0].set_ylabel('Electricity Consumption')\n",
    "axs[0].legend()\n",
    "\n",
    "axs[1].scatter(data_over_15['Temperature'], data_over_15['Load'], alpha=0.5, label='Data', s=1)\n",
    "x = data_over_15['Temperature']\n",
    "y = data_over_15['Load']\n",
    "m, b = np.polyfit(x, y, 1)\n",
    "axs[1].plot(x, m*x + b, color='red', label='Trend line')\n",
    "axs[1].set_title('Temperature (>=15°C) vs Electricity Consumption')\n",
    "axs[1].set_xlabel('Temperature (>=15°C)')\n",
    "axs[1].set_ylabel('Electricity Consumption')\n",
    "axs[1].legend()\n",
    "\n",
    "plt.tight_layout()\n",
    "plt.show()"
   ]
  },
  {
   "cell_type": "markdown",
   "metadata": {},
   "source": [
    "* In Germany, the base temperature used for calculating HDD and CDD can vary but commonly falls around [15°C](https://energy-data.io/degree-days/#:~:text=According%20to%20the%20German%20standard%20VDI%203807%2C%20in%20Germany%2020,and%20internal%20gains%20into%20account.)\n",
    "* From Figure 5 we see that the load does not increase during summer. Therefore, CDD, which is not an important variable in Germany.\n",
    "* Set variable for Heating days: $HDD_t$"
   ]
  },
  {
   "cell_type": "markdown",
   "metadata": {},
   "source": [
    "## Handling Missing Values and exclude duplicates"
   ]
  },
  {
   "cell_type": "code",
   "execution_count": null,
   "metadata": {
    "ExecuteTime": {
     "start_time": "2024-01-28T10:48:31.613238600Z"
    }
   },
   "outputs": [],
   "source": [
    "# Check for missing values\n",
    "missing_values = df.isnull().sum()\n",
    "missing_values\n",
    "\n",
    "# Check for duplicates\n"
   ]
  },
  {
   "cell_type": "markdown",
   "metadata": {
    "collapsed": false
   },
   "source": [
    "No missing values found!"
   ]
  },
  {
   "cell_type": "markdown",
   "metadata": {},
   "source": [
    "## Feature Distributions\n",
    "\n",
    "[Plot the distribution of various features and target variables. Comment on the skewness, outliers, or any other observations.]\n"
   ]
  },
  {
   "cell_type": "code",
   "execution_count": null,
   "metadata": {
    "ExecuteTime": {
     "start_time": "2024-01-28T10:48:31.616254600Z"
    }
   },
   "outputs": [],
   "source": [
    "# Example: Plotting histograms of all numerical features\n",
    "df.hist(figsize=(12, 6))\n",
    "plt.show()"
   ]
  },
  {
   "cell_type": "markdown",
   "metadata": {},
   "source": [
    "## Possible Biases\n",
    "\n",
    "[Investigate the dataset for any biases that could affect the model’s performance and fairness (e.g., class imbalance, historical biases).]\n"
   ]
  },
  {
   "cell_type": "code",
   "execution_count": null,
   "metadata": {
    "ExecuteTime": {
     "start_time": "2024-01-28T10:48:31.621254900Z"
    }
   },
   "outputs": [],
   "source": [
    "# Example: Checking for class imbalance in a classification problem\n",
    "# sns.countplot(x='target_variable', data=df)\n",
    "\n",
    "# Your code to investigate possible biases goes here\n"
   ]
  },
  {
   "cell_type": "markdown",
   "metadata": {},
   "source": [
    "## Correlations\n",
    "\n",
    "[Explore correlations between features and the target variable, as well as among features themselves.]\n"
   ]
  },
  {
   "cell_type": "code",
   "execution_count": null,
   "metadata": {
    "ExecuteTime": {
     "start_time": "2024-01-28T10:48:31.623760400Z"
    }
   },
   "outputs": [],
   "source": [
    "# Example: Plotting a heatmap to show feature correlations\n",
    "correlation_matrix = df.corr()\n",
    "sns.heatmap(correlation_matrix, annot=True)\n",
    "plt.show()\n"
   ]
  },
  {
   "cell_type": "code",
   "execution_count": null,
   "metadata": {
    "collapsed": false,
    "ExecuteTime": {
     "start_time": "2024-01-28T10:48:31.626780500Z"
    }
   },
   "outputs": [],
   "source": []
  }
 ],
 "metadata": {
  "kernelspec": {
   "display_name": "Python 3",
   "language": "python",
   "name": "python3"
  },
  "language_info": {
   "codemirror_mode": {
    "name": "ipython",
    "version": 3
   },
   "file_extension": ".py",
   "mimetype": "text/x-python",
   "name": "python",
   "nbconvert_exporter": "python",
   "pygments_lexer": "ipython3",
   "version": "3.11.5"
  }
 },
 "nbformat": 4,
 "nbformat_minor": 2
}
