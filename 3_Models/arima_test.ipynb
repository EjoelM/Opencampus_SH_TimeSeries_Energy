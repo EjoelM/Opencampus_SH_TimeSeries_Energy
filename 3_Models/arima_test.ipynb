{
 "cells": [
  {
   "cell_type": "markdown",
   "metadata": {},
   "source": [
    "# Model Definition and Evaluation\n",
    "## Table of Contents\n",
    "1. [Model Selection](#model-selection)\n",
    "2. [Feature Engineering](#feature-engineering)\n",
    "3. [Hyperparameter Tuning](#hyperparameter-tuning)\n",
    "4. [Implementation](#implementation)\n",
    "5. [Evaluation Metrics](#evaluation-metrics)\n",
    "6. [Comparative Analysis](#comparative-analysis)\n"
   ]
  },
  {
   "cell_type": "code",
   "execution_count": 138,
   "metadata": {
    "ExecuteTime": {
     "end_time": "2024-01-28T17:39:02.883462400Z",
     "start_time": "2024-01-28T17:39:02.866455700Z"
    }
   },
   "outputs": [],
   "source": [
    "# Import necessary libraries\n",
    "import pandas as pd\n",
    "\n",
    "import holidays\n",
    "import statsmodels.api as sm\n",
    "import warnings\n",
    "import itertools\n",
    "from sklearn.model_selection import train_test_split\n",
    "\n",
    "from Data.load_data import get_energy_data\n",
    "from helper_functions import create_error_metrics"
   ]
  },
  {
   "cell_type": "markdown",
   "metadata": {},
   "source": [
    "## Model Selection\n",
    "\n",
    "[Discuss the type(s) of models you consider for this task, and justify the selection.]\n",
    "\n"
   ]
  },
  {
   "cell_type": "markdown",
   "metadata": {},
   "source": [
    "## Feature Engineering\n",
    "\n",
    "[Describe any additional feature engineering you've performed beyond what was done for the baseline model.]\n"
   ]
  },
  {
   "cell_type": "code",
   "outputs": [],
   "source": [
    "german_holidays = holidays.country_holidays(\"Germany\", years=[2017, 2018, 2019], subdiv=\"BY\") + holidays.country_holidays(\"Germany\", years=[2017, 2018, 2019], subdiv=\"SH\")"
   ],
   "metadata": {
    "collapsed": false,
    "ExecuteTime": {
     "end_time": "2024-01-28T22:02:20.883784500Z",
     "start_time": "2024-01-28T22:02:20.847774400Z"
    }
   },
   "execution_count": 162
  },
  {
   "cell_type": "code",
   "outputs": [],
   "source": [
    "def create_dummy_variables(prefix: str, df_total_temp: pd.DataFrame, df_temp: pd.DataFrame) -> pd.DataFrame:\n",
    "    df_dummies = pd.get_dummies(df_temp, prefix=prefix, drop_first=True)\n",
    "    df_dummies.index = df_total_temp.index\n",
    "    return df_dummies"
   ],
   "metadata": {
    "collapsed": false,
    "ExecuteTime": {
     "end_time": "2024-01-28T22:02:21.589506Z",
     "start_time": "2024-01-28T22:02:21.559841600Z"
    }
   },
   "execution_count": 163
  },
  {
   "cell_type": "code",
   "outputs": [
    {
     "data": {
      "text/plain": "                               Load  Temperature  hour_1  hour_2  hour_3  \\\nDate (UTC)                                                                 \n2016-12-31 23:00:00+00:00  188528.8         -2.2   False   False   False   \n2017-01-01 00:00:00+00:00  183256.4         -2.4   False   False   False   \n2017-01-01 01:00:00+00:00  177785.3         -2.5    True   False   False   \n2017-01-01 02:00:00+00:00  172906.9         -2.7   False    True   False   \n2017-01-01 03:00:00+00:00  169715.8         -2.8   False   False    True   \n...                             ...          ...     ...     ...     ...   \n2019-12-31 18:00:00+00:00  208132.8          1.8   False   False   False   \n2019-12-31 19:00:00+00:00  195995.3          1.4   False   False   False   \n2019-12-31 20:00:00+00:00  188942.4          1.0   False   False   False   \n2019-12-31 21:00:00+00:00  187248.1          0.6   False   False   False   \n2019-12-31 22:00:00+00:00  179641.0          0.2   False   False   False   \n\n                           hour_4  hour_5  hour_6  hour_7  hour_8  ...  \\\nDate (UTC)                                                         ...   \n2016-12-31 23:00:00+00:00   False   False   False   False   False  ...   \n2017-01-01 00:00:00+00:00   False   False   False   False   False  ...   \n2017-01-01 01:00:00+00:00   False   False   False   False   False  ...   \n2017-01-01 02:00:00+00:00   False   False   False   False   False  ...   \n2017-01-01 03:00:00+00:00   False   False   False   False   False  ...   \n...                           ...     ...     ...     ...     ...  ...   \n2019-12-31 18:00:00+00:00   False   False   False   False   False  ...   \n2019-12-31 19:00:00+00:00   False   False   False   False   False  ...   \n2019-12-31 20:00:00+00:00   False   False   False   False   False  ...   \n2019-12-31 21:00:00+00:00   False   False   False   False   False  ...   \n2019-12-31 22:00:00+00:00   False   False   False   False   False  ...   \n\n                           isHoliday_Easter Monday  isHoliday_Epiphany  \\\nDate (UTC)                                                               \n2016-12-31 23:00:00+00:00                    False               False   \n2017-01-01 00:00:00+00:00                    False               False   \n2017-01-01 01:00:00+00:00                    False               False   \n2017-01-01 02:00:00+00:00                    False               False   \n2017-01-01 03:00:00+00:00                    False               False   \n...                                            ...                 ...   \n2019-12-31 18:00:00+00:00                    False               False   \n2019-12-31 19:00:00+00:00                    False               False   \n2019-12-31 20:00:00+00:00                    False               False   \n2019-12-31 21:00:00+00:00                    False               False   \n2019-12-31 22:00:00+00:00                    False               False   \n\n                           isHoliday_German Unity Day  isHoliday_Good Friday  \\\nDate (UTC)                                                                     \n2016-12-31 23:00:00+00:00                       False                  False   \n2017-01-01 00:00:00+00:00                       False                  False   \n2017-01-01 01:00:00+00:00                       False                  False   \n2017-01-01 02:00:00+00:00                       False                  False   \n2017-01-01 03:00:00+00:00                       False                  False   \n...                                               ...                    ...   \n2019-12-31 18:00:00+00:00                       False                  False   \n2019-12-31 19:00:00+00:00                       False                  False   \n2019-12-31 20:00:00+00:00                       False                  False   \n2019-12-31 21:00:00+00:00                       False                  False   \n2019-12-31 22:00:00+00:00                       False                  False   \n\n                           isHoliday_Labor Day  isHoliday_New Year's Day  \\\nDate (UTC)                                                                 \n2016-12-31 23:00:00+00:00                False                     False   \n2017-01-01 00:00:00+00:00                False                      True   \n2017-01-01 01:00:00+00:00                False                      True   \n2017-01-01 02:00:00+00:00                False                      True   \n2017-01-01 03:00:00+00:00                False                      True   \n...                                        ...                       ...   \n2019-12-31 18:00:00+00:00                False                     False   \n2019-12-31 19:00:00+00:00                False                     False   \n2019-12-31 20:00:00+00:00                False                     False   \n2019-12-31 21:00:00+00:00                False                     False   \n2019-12-31 22:00:00+00:00                False                     False   \n\n                           isHoliday_Reformation Day  \\\nDate (UTC)                                             \n2016-12-31 23:00:00+00:00                      False   \n2017-01-01 00:00:00+00:00                      False   \n2017-01-01 01:00:00+00:00                      False   \n2017-01-01 02:00:00+00:00                      False   \n2017-01-01 03:00:00+00:00                      False   \n...                                              ...   \n2019-12-31 18:00:00+00:00                      False   \n2019-12-31 19:00:00+00:00                      False   \n2019-12-31 20:00:00+00:00                      False   \n2019-12-31 21:00:00+00:00                      False   \n2019-12-31 22:00:00+00:00                      False   \n\n                           isHoliday_Second Day of Christmas  \\\nDate (UTC)                                                     \n2016-12-31 23:00:00+00:00                              False   \n2017-01-01 00:00:00+00:00                              False   \n2017-01-01 01:00:00+00:00                              False   \n2017-01-01 02:00:00+00:00                              False   \n2017-01-01 03:00:00+00:00                              False   \n...                                                      ...   \n2019-12-31 18:00:00+00:00                              False   \n2019-12-31 19:00:00+00:00                              False   \n2019-12-31 20:00:00+00:00                              False   \n2019-12-31 21:00:00+00:00                              False   \n2019-12-31 22:00:00+00:00                              False   \n\n                           isHoliday_Whit Monday  isHoliday_non-holiday  \nDate (UTC)                                                               \n2016-12-31 23:00:00+00:00                  False                   True  \n2017-01-01 00:00:00+00:00                  False                  False  \n2017-01-01 01:00:00+00:00                  False                  False  \n2017-01-01 02:00:00+00:00                  False                  False  \n2017-01-01 03:00:00+00:00                  False                  False  \n...                                          ...                    ...  \n2019-12-31 18:00:00+00:00                  False                   True  \n2019-12-31 19:00:00+00:00                  False                   True  \n2019-12-31 20:00:00+00:00                  False                   True  \n2019-12-31 21:00:00+00:00                  False                   True  \n2019-12-31 22:00:00+00:00                  False                   True  \n\n[26280 rows x 62 columns]",
      "text/html": "<div>\n<style scoped>\n    .dataframe tbody tr th:only-of-type {\n        vertical-align: middle;\n    }\n\n    .dataframe tbody tr th {\n        vertical-align: top;\n    }\n\n    .dataframe thead th {\n        text-align: right;\n    }\n</style>\n<table border=\"1\" class=\"dataframe\">\n  <thead>\n    <tr style=\"text-align: right;\">\n      <th></th>\n      <th>Load</th>\n      <th>Temperature</th>\n      <th>hour_1</th>\n      <th>hour_2</th>\n      <th>hour_3</th>\n      <th>hour_4</th>\n      <th>hour_5</th>\n      <th>hour_6</th>\n      <th>hour_7</th>\n      <th>hour_8</th>\n      <th>...</th>\n      <th>isHoliday_Easter Monday</th>\n      <th>isHoliday_Epiphany</th>\n      <th>isHoliday_German Unity Day</th>\n      <th>isHoliday_Good Friday</th>\n      <th>isHoliday_Labor Day</th>\n      <th>isHoliday_New Year's Day</th>\n      <th>isHoliday_Reformation Day</th>\n      <th>isHoliday_Second Day of Christmas</th>\n      <th>isHoliday_Whit Monday</th>\n      <th>isHoliday_non-holiday</th>\n    </tr>\n    <tr>\n      <th>Date (UTC)</th>\n      <th></th>\n      <th></th>\n      <th></th>\n      <th></th>\n      <th></th>\n      <th></th>\n      <th></th>\n      <th></th>\n      <th></th>\n      <th></th>\n      <th></th>\n      <th></th>\n      <th></th>\n      <th></th>\n      <th></th>\n      <th></th>\n      <th></th>\n      <th></th>\n      <th></th>\n      <th></th>\n      <th></th>\n    </tr>\n  </thead>\n  <tbody>\n    <tr>\n      <th>2016-12-31 23:00:00+00:00</th>\n      <td>188528.8</td>\n      <td>-2.2</td>\n      <td>False</td>\n      <td>False</td>\n      <td>False</td>\n      <td>False</td>\n      <td>False</td>\n      <td>False</td>\n      <td>False</td>\n      <td>False</td>\n      <td>...</td>\n      <td>False</td>\n      <td>False</td>\n      <td>False</td>\n      <td>False</td>\n      <td>False</td>\n      <td>False</td>\n      <td>False</td>\n      <td>False</td>\n      <td>False</td>\n      <td>True</td>\n    </tr>\n    <tr>\n      <th>2017-01-01 00:00:00+00:00</th>\n      <td>183256.4</td>\n      <td>-2.4</td>\n      <td>False</td>\n      <td>False</td>\n      <td>False</td>\n      <td>False</td>\n      <td>False</td>\n      <td>False</td>\n      <td>False</td>\n      <td>False</td>\n      <td>...</td>\n      <td>False</td>\n      <td>False</td>\n      <td>False</td>\n      <td>False</td>\n      <td>False</td>\n      <td>True</td>\n      <td>False</td>\n      <td>False</td>\n      <td>False</td>\n      <td>False</td>\n    </tr>\n    <tr>\n      <th>2017-01-01 01:00:00+00:00</th>\n      <td>177785.3</td>\n      <td>-2.5</td>\n      <td>True</td>\n      <td>False</td>\n      <td>False</td>\n      <td>False</td>\n      <td>False</td>\n      <td>False</td>\n      <td>False</td>\n      <td>False</td>\n      <td>...</td>\n      <td>False</td>\n      <td>False</td>\n      <td>False</td>\n      <td>False</td>\n      <td>False</td>\n      <td>True</td>\n      <td>False</td>\n      <td>False</td>\n      <td>False</td>\n      <td>False</td>\n    </tr>\n    <tr>\n      <th>2017-01-01 02:00:00+00:00</th>\n      <td>172906.9</td>\n      <td>-2.7</td>\n      <td>False</td>\n      <td>True</td>\n      <td>False</td>\n      <td>False</td>\n      <td>False</td>\n      <td>False</td>\n      <td>False</td>\n      <td>False</td>\n      <td>...</td>\n      <td>False</td>\n      <td>False</td>\n      <td>False</td>\n      <td>False</td>\n      <td>False</td>\n      <td>True</td>\n      <td>False</td>\n      <td>False</td>\n      <td>False</td>\n      <td>False</td>\n    </tr>\n    <tr>\n      <th>2017-01-01 03:00:00+00:00</th>\n      <td>169715.8</td>\n      <td>-2.8</td>\n      <td>False</td>\n      <td>False</td>\n      <td>True</td>\n      <td>False</td>\n      <td>False</td>\n      <td>False</td>\n      <td>False</td>\n      <td>False</td>\n      <td>...</td>\n      <td>False</td>\n      <td>False</td>\n      <td>False</td>\n      <td>False</td>\n      <td>False</td>\n      <td>True</td>\n      <td>False</td>\n      <td>False</td>\n      <td>False</td>\n      <td>False</td>\n    </tr>\n    <tr>\n      <th>...</th>\n      <td>...</td>\n      <td>...</td>\n      <td>...</td>\n      <td>...</td>\n      <td>...</td>\n      <td>...</td>\n      <td>...</td>\n      <td>...</td>\n      <td>...</td>\n      <td>...</td>\n      <td>...</td>\n      <td>...</td>\n      <td>...</td>\n      <td>...</td>\n      <td>...</td>\n      <td>...</td>\n      <td>...</td>\n      <td>...</td>\n      <td>...</td>\n      <td>...</td>\n      <td>...</td>\n    </tr>\n    <tr>\n      <th>2019-12-31 18:00:00+00:00</th>\n      <td>208132.8</td>\n      <td>1.8</td>\n      <td>False</td>\n      <td>False</td>\n      <td>False</td>\n      <td>False</td>\n      <td>False</td>\n      <td>False</td>\n      <td>False</td>\n      <td>False</td>\n      <td>...</td>\n      <td>False</td>\n      <td>False</td>\n      <td>False</td>\n      <td>False</td>\n      <td>False</td>\n      <td>False</td>\n      <td>False</td>\n      <td>False</td>\n      <td>False</td>\n      <td>True</td>\n    </tr>\n    <tr>\n      <th>2019-12-31 19:00:00+00:00</th>\n      <td>195995.3</td>\n      <td>1.4</td>\n      <td>False</td>\n      <td>False</td>\n      <td>False</td>\n      <td>False</td>\n      <td>False</td>\n      <td>False</td>\n      <td>False</td>\n      <td>False</td>\n      <td>...</td>\n      <td>False</td>\n      <td>False</td>\n      <td>False</td>\n      <td>False</td>\n      <td>False</td>\n      <td>False</td>\n      <td>False</td>\n      <td>False</td>\n      <td>False</td>\n      <td>True</td>\n    </tr>\n    <tr>\n      <th>2019-12-31 20:00:00+00:00</th>\n      <td>188942.4</td>\n      <td>1.0</td>\n      <td>False</td>\n      <td>False</td>\n      <td>False</td>\n      <td>False</td>\n      <td>False</td>\n      <td>False</td>\n      <td>False</td>\n      <td>False</td>\n      <td>...</td>\n      <td>False</td>\n      <td>False</td>\n      <td>False</td>\n      <td>False</td>\n      <td>False</td>\n      <td>False</td>\n      <td>False</td>\n      <td>False</td>\n      <td>False</td>\n      <td>True</td>\n    </tr>\n    <tr>\n      <th>2019-12-31 21:00:00+00:00</th>\n      <td>187248.1</td>\n      <td>0.6</td>\n      <td>False</td>\n      <td>False</td>\n      <td>False</td>\n      <td>False</td>\n      <td>False</td>\n      <td>False</td>\n      <td>False</td>\n      <td>False</td>\n      <td>...</td>\n      <td>False</td>\n      <td>False</td>\n      <td>False</td>\n      <td>False</td>\n      <td>False</td>\n      <td>False</td>\n      <td>False</td>\n      <td>False</td>\n      <td>False</td>\n      <td>True</td>\n    </tr>\n    <tr>\n      <th>2019-12-31 22:00:00+00:00</th>\n      <td>179641.0</td>\n      <td>0.2</td>\n      <td>False</td>\n      <td>False</td>\n      <td>False</td>\n      <td>False</td>\n      <td>False</td>\n      <td>False</td>\n      <td>False</td>\n      <td>False</td>\n      <td>...</td>\n      <td>False</td>\n      <td>False</td>\n      <td>False</td>\n      <td>False</td>\n      <td>False</td>\n      <td>False</td>\n      <td>False</td>\n      <td>False</td>\n      <td>False</td>\n      <td>True</td>\n    </tr>\n  </tbody>\n</table>\n<p>26280 rows × 62 columns</p>\n</div>"
     },
     "execution_count": 172,
     "metadata": {},
     "output_type": "execute_result"
    }
   ],
   "source": [
    "df = get_energy_data()\n",
    "df = pd.concat([\n",
    "    df,\n",
    "    create_dummy_variables(\"hour\", df, df.index.hour),\n",
    "    create_dummy_variables(\"dayofweek\", df, df.index.dayofweek),\n",
    "    create_dummy_variables(\"month\", df, df.index.month),\n",
    "    # create_dummy_variables(\"dayofyear\", df, df.index.dayofyear),\n",
    "    create_dummy_variables(\"isweekend\", df, df.index.weekday),\n",
    "    create_dummy_variables(\"isHoliday\", df, pd.DataFrame([\"non-holiday\" if x not in german_holidays else german_holidays.get(x) for x in df.index.date])),\n",
    "], axis=1)\n",
    "df"
   ],
   "metadata": {
    "collapsed": false,
    "ExecuteTime": {
     "end_time": "2024-01-28T22:11:52.440185200Z",
     "start_time": "2024-01-28T22:11:51.410598600Z"
    }
   },
   "execution_count": 172
  },
  {
   "cell_type": "code",
   "execution_count": 173,
   "metadata": {
    "ExecuteTime": {
     "end_time": "2024-01-28T22:12:02.497015500Z",
     "start_time": "2024-01-28T22:12:02.475023600Z"
    }
   },
   "outputs": [],
   "source": [
    "X = df.loc[:, (df.columns != 'Temperature') & (df.columns != 'Load')]\n",
    "y = df['Load']\n",
    "\n",
    "# # Split the dataset\n",
    "X_train, X_test, y_train, y_test = train_test_split(X, y, test_size=0.2, shuffle=False)"
   ]
  },
  {
   "cell_type": "markdown",
   "metadata": {},
   "source": [
    "## Hyperparameter Tuning\n",
    "\n",
    "[Discuss any hyperparameter tuning methods you've applied, such as Grid Search or Random Search, and the rationale behind them.]\n"
   ]
  },
  {
   "cell_type": "code",
   "execution_count": 139,
   "metadata": {
    "ExecuteTime": {
     "end_time": "2024-01-28T19:32:39.340009100Z",
     "start_time": "2024-01-28T17:41:36.419862800Z"
    }
   },
   "outputs": [
    {
     "name": "stdout",
     "output_type": "stream",
     "text": [
      "The iteration 1\n",
      "length of pdq 8\n",
      "length of seasonalpdq 8\n",
      "The iteration 2)x(0, 0, 0, 24) - AIC:655316.7290392782\n",
      "length of pdq 8\n",
      "length of seasonalpdq 8\n",
      "The iteration 3)x(0, 0, 1, 24) - AIC:464734.25966720737\n",
      "length of pdq 8\n",
      "length of seasonalpdq 8\n",
      "The iteration 4\n",
      "length of pdq 8\n",
      "length of seasonalpdq 8\n",
      "The iteration 5\n",
      "length of pdq 8\n",
      "length of seasonalpdq 8\n",
      "The iteration 6)x(1, 0, 0, 24) - AIC:464353.143082983\n",
      "length of pdq 8\n",
      "length of seasonalpdq 8\n",
      "The iteration 7)x(1, 0, 1, 24) - AIC:464306.79289422324\n",
      "length of pdq 8\n",
      "length of seasonalpdq 8\n",
      "The iteration 8\n",
      "length of pdq 8\n",
      "length of seasonalpdq 8\n",
      "The iteration 9\n",
      "length of pdq 8\n",
      "length of seasonalpdq 8\n",
      "The iteration 10x(0, 0, 0, 24) - AIC:459412.6315696341\n",
      "length of pdq 8\n",
      "length of seasonalpdq 8\n",
      "The iteration 11x(0, 0, 1, 24) - AIC:455348.37477565807\n",
      "length of pdq 8\n",
      "length of seasonalpdq 8\n",
      "The iteration 12\n",
      "length of pdq 8\n",
      "length of seasonalpdq 8\n",
      "The iteration 13\n",
      "length of pdq 8\n",
      "length of seasonalpdq 8\n",
      "The iteration 14x(1, 0, 0, 24) - AIC:455349.1846381853\n",
      "length of pdq 8\n",
      "length of seasonalpdq 8\n",
      "The iteration 15x(1, 0, 1, 24) - AIC:455298.23500557814\n",
      "length of pdq 8\n",
      "length of seasonalpdq 8\n",
      "The iteration 16\n",
      "length of pdq 8\n",
      "length of seasonalpdq 8\n",
      "The iteration 17\n",
      "length of pdq 8\n",
      "length of seasonalpdq 8\n",
      "The iteration 18x(0, 0, 0, 24) - AIC:607189.7617590831\n",
      "length of pdq 8\n",
      "length of seasonalpdq 8\n",
      "The iteration 19x(0, 0, 1, 24) - AIC:438876.3470029966\n",
      "length of pdq 8\n",
      "length of seasonalpdq 8\n",
      "The iteration 20\n",
      "length of pdq 8\n",
      "length of seasonalpdq 8\n",
      "The iteration 21\n",
      "length of pdq 8\n",
      "length of seasonalpdq 8\n",
      "The iteration 22x(1, 0, 0, 24) - AIC:418982.7685068308\n",
      "length of pdq 8\n",
      "length of seasonalpdq 8\n",
      "The iteration 23x(1, 0, 1, 24) - AIC:414073.2766508416\n",
      "length of pdq 8\n",
      "length of seasonalpdq 8\n",
      "The iteration 24\n",
      "length of pdq 8\n",
      "length of seasonalpdq 8\n",
      "The iteration 25\n",
      "length of pdq 8\n",
      "length of seasonalpdq 8\n",
      "The iteration 26x(0, 0, 0, 24) - AIC:453462.9505774952\n",
      "length of pdq 8\n",
      "length of seasonalpdq 8\n",
      "The iteration 27x(0, 0, 1, 24) - AIC:453887.047387031\n",
      "length of pdq 8\n",
      "length of seasonalpdq 8\n",
      "The iteration 28\n",
      "length of pdq 8\n",
      "length of seasonalpdq 8\n",
      "The iteration 29\n",
      "length of pdq 8\n",
      "length of seasonalpdq 8\n",
      "The iteration 30x(1, 0, 0, 24) - AIC:409994.41038113437\n",
      "length of pdq 8\n",
      "length of seasonalpdq 8\n",
      "The iteration 31x(1, 0, 1, 24) - AIC:405252.2894070265\n",
      "length of pdq 8\n",
      "length of seasonalpdq 8\n",
      "The iteration 32\n",
      "length of pdq 8\n",
      "length of seasonalpdq 8\n",
      "The iteration 33\n",
      "length of pdq 8\n",
      "length of seasonalpdq 8\n",
      "The iteration 34x(0, 0, 0, 24) - AIC:436278.71739786444\n",
      "length of pdq 8\n",
      "length of seasonalpdq 8\n",
      "The iteration 35x(0, 0, 1, 24) - AIC:433961.4354353784\n",
      "length of pdq 8\n",
      "length of seasonalpdq 8\n",
      "The iteration 36\n",
      "length of pdq 8\n",
      "length of seasonalpdq 8\n",
      "The iteration 37\n",
      "length of pdq 8\n",
      "length of seasonalpdq 8\n",
      "The iteration 38x(1, 0, 0, 24) - AIC:434092.3712152195\n",
      "length of pdq 8\n",
      "length of seasonalpdq 8\n",
      "The iteration 39x(1, 0, 1, 24) - AIC:434085.2974849607\n",
      "length of pdq 8\n",
      "length of seasonalpdq 8\n",
      "The iteration 40\n",
      "length of pdq 8\n",
      "length of seasonalpdq 8\n",
      "The iteration 41\n",
      "length of pdq 8\n",
      "length of seasonalpdq 8\n",
      "The iteration 42x(0, 0, 0, 24) - AIC:435323.96733827365\n",
      "length of pdq 8\n",
      "length of seasonalpdq 8\n",
      "The iteration 43x(0, 0, 1, 24) - AIC:432921.4875810248\n",
      "length of pdq 8\n",
      "length of seasonalpdq 8\n",
      "The iteration 44\n",
      "length of pdq 8\n",
      "length of seasonalpdq 8\n",
      "The iteration 45\n",
      "length of pdq 8\n",
      "length of seasonalpdq 8\n",
      "The iteration 46x(1, 0, 0, 24) - AIC:433227.34579754376\n",
      "length of pdq 8\n",
      "length of seasonalpdq 8\n",
      "The iteration 47x(1, 0, 1, 24) - AIC:433022.0021508166\n",
      "length of pdq 8\n",
      "length of seasonalpdq 8\n",
      "The iteration 48\n",
      "length of pdq 8\n",
      "length of seasonalpdq 8\n",
      "The iteration 49\n",
      "length of pdq 8\n",
      "length of seasonalpdq 8\n",
      "The iteration 50x(0, 0, 0, 24) - AIC:529083.4643714175\n",
      "length of pdq 8\n",
      "length of seasonalpdq 8\n",
      "The iteration 51x(0, 0, 1, 24) - AIC:436721.5373651616\n",
      "length of pdq 8\n",
      "length of seasonalpdq 8\n",
      "The iteration 52\n",
      "length of pdq 8\n",
      "length of seasonalpdq 8\n",
      "The iteration 53\n",
      "length of pdq 8\n",
      "length of seasonalpdq 8\n",
      "The iteration 54x(1, 0, 0, 24) - AIC:408812.64087337925\n",
      "length of pdq 8\n",
      "length of seasonalpdq 8\n",
      "The iteration 55x(1, 0, 1, 24) - AIC:405384.6380761372\n",
      "length of pdq 8\n",
      "length of seasonalpdq 8\n",
      "The iteration 56\n",
      "length of pdq 8\n",
      "length of seasonalpdq 8\n",
      "The iteration 57\n",
      "length of pdq 8\n",
      "length of seasonalpdq 8\n",
      "The iteration 58x(0, 0, 0, 24) - AIC:526650.3601016215\n",
      "length of pdq 8\n",
      "length of seasonalpdq 8\n",
      "The iteration 59x(0, 0, 1, 24) - AIC:446148.0548453993\n",
      "length of pdq 8\n",
      "length of seasonalpdq 8\n",
      "The iteration 60\n",
      "length of pdq 8\n",
      "length of seasonalpdq 8\n",
      "The iteration 61\n",
      "length of pdq 8\n",
      "length of seasonalpdq 8\n",
      "The iteration 62x(1, 0, 0, 24) - AIC:408029.2597584907\n",
      "length of pdq 8\n",
      "length of seasonalpdq 8\n",
      "The iteration 63x(1, 0, 1, 24) - AIC:403711.4255634404\n",
      "length of pdq 8\n",
      "length of seasonalpdq 8\n",
      "The iteration 64\n",
      "length of pdq 8\n",
      "length of seasonalpdq 8\n",
      "The smallest AIC is 403711.4255634404 for model SARIMAX(1, 1, 1)x(1, 0, 1, 24)\n"
     ]
    }
   ],
   "source": [
    "def run_grid_search(p_max: int, q_max: int, d_max: int):\n",
    "    q = range(0, q_max)\n",
    "    d = range(0, d_max)\n",
    "    p = range(0, p_max)\n",
    "    \n",
    "    # Generate all different combinations of p, q and q triplets\n",
    "    pdq = list(itertools.product(p, d, q))\n",
    "    \n",
    "    # Generate all different combinations of seasonal p, q and q triplets\n",
    "    seasonal_pdq = [(x[0], x[1], x[2], 24) for x in list(itertools.product(p, d, q))]\n",
    "    \n",
    "    warnings.filterwarnings(\"ignore\") # specify to ignore warning messages\n",
    "    i = 0\n",
    "    AIC = []\n",
    "    SARIMAX_model = []\n",
    "    for param in pdq:\n",
    "        for param_seasonal in seasonal_pdq:\n",
    "            try:\n",
    "                i+=1\n",
    "                print('The iteration',i)\n",
    "                print('length of pdq',len(pdq))\n",
    "                print('length of seasonalpdq',len(seasonal_pdq))\n",
    "                mod = sm.tsa.statespace.SARIMAX(endog=y_train,\n",
    "                                                exog=X_train,\n",
    "                                                order=param,\n",
    "                                                seasonal_order=param_seasonal,\n",
    "                                                enforce_stationarity=False,\n",
    "                                                enforce_invertibility=False)\n",
    "    \n",
    "                results = mod.fit()\n",
    "    \n",
    "                print('SARIMAX{}x{} - AIC:{}'.format(param, param_seasonal, results.aic), end='\\r')\n",
    "                AIC.append(results.aic)\n",
    "                SARIMAX_model.append([param, param_seasonal])\n",
    "            except:\n",
    "                continue\n",
    "    \n",
    "    print('The smallest AIC is {} for model SARIMAX{}x{}'.format(min(AIC), SARIMAX_model[AIC.index(min(AIC))][0],SARIMAX_model[AIC.index(min(AIC))][1]))\n",
    "\n",
    "# run_grid_search(2, 2, 2)"
   ]
  },
  {
   "cell_type": "markdown",
   "metadata": {},
   "source": [
    "## Implementation\n",
    "\n",
    "[Implement the final model(s) you've selected based on the above steps.]\n"
   ]
  },
  {
   "cell_type": "code",
   "execution_count": 174,
   "metadata": {
    "ExecuteTime": {
     "end_time": "2024-01-28T22:13:00.354622600Z",
     "start_time": "2024-01-28T22:12:14.421925600Z"
    }
   },
   "outputs": [
    {
     "name": "stdout",
     "output_type": "stream",
     "text": [
      "                               SARIMAX Results                                \n",
      "==============================================================================\n",
      "Dep. Variable:                   Load   No. Observations:                21024\n",
      "Model:               SARIMAX(1, 0, 1)   Log Likelihood             -217668.059\n",
      "Date:                Sun, 28 Jan 2024   AIC                         435462.118\n",
      "Time:                        23:12:59   BIC                         435963.183\n",
      "Sample:                    12-31-2016   HQIC                        435625.655\n",
      "                         - 05-26-2019                                         \n",
      "Covariance Type:                  opg                                         \n",
      "=====================================================================================================\n",
      "                                        coef    std err          z      P>|z|      [0.025      0.975]\n",
      "-----------------------------------------------------------------------------------------------------\n",
      "hour_1                             7108.9522    245.138     29.000      0.000    6628.491    7589.414\n",
      "hour_2                             9527.1869    651.069     14.633      0.000    8251.116    1.08e+04\n",
      "hour_3                             1.695e+04    794.621     21.330      0.000    1.54e+04    1.85e+04\n",
      "hour_4                             3.362e+04    774.109     43.433      0.000    3.21e+04    3.51e+04\n",
      "hour_5                             5.312e+04    738.494     71.925      0.000    5.17e+04    5.46e+04\n",
      "hour_6                              6.88e+04    787.277     87.385      0.000    6.73e+04    7.03e+04\n",
      "hour_7                             7.703e+04   1010.730     76.216      0.000    7.51e+04     7.9e+04\n",
      "hour_8                             8.246e+04   1163.823     70.855      0.000    8.02e+04    8.47e+04\n",
      "hour_9                             8.708e+04   1330.887     65.430      0.000    8.45e+04    8.97e+04\n",
      "hour_10                            8.732e+04   1360.250     64.192      0.000    8.47e+04       9e+04\n",
      "hour_11                            8.367e+04   1355.766     61.715      0.000     8.1e+04    8.63e+04\n",
      "hour_12                            7.872e+04   1372.732     57.346      0.000     7.6e+04    8.14e+04\n",
      "hour_13                            7.434e+04   1447.261     51.367      0.000    7.15e+04    7.72e+04\n",
      "hour_14                            7.106e+04   1486.681     47.799      0.000    6.81e+04     7.4e+04\n",
      "hour_15                            7.164e+04   1426.122     50.236      0.000    6.88e+04    7.44e+04\n",
      "hour_16                            7.636e+04   1288.821     59.249      0.000    7.38e+04    7.89e+04\n",
      "hour_17                            7.807e+04   1159.370     67.336      0.000    7.58e+04    8.03e+04\n",
      "hour_18                            7.266e+04   1067.316     68.076      0.000    7.06e+04    7.48e+04\n",
      "hour_19                            6.139e+04    988.899     62.077      0.000    5.94e+04    6.33e+04\n",
      "hour_20                            4.998e+04    909.202     54.968      0.000    4.82e+04    5.18e+04\n",
      "hour_21                            3.751e+04    819.142     45.792      0.000    3.59e+04    3.91e+04\n",
      "hour_22                             2.39e+04    645.704     37.014      0.000    2.26e+04    2.52e+04\n",
      "hour_23                            1.427e+04    182.240     78.298      0.000    1.39e+04    1.46e+04\n",
      "dayofweek_1                        1.291e+17    227.555   5.67e+14      0.000    1.29e+17    1.29e+17\n",
      "dayofweek_2                        1.913e+16    230.726   8.29e+13      0.000    1.91e+16    1.91e+16\n",
      "dayofweek_3                        1.744e+16    228.942   7.62e+13      0.000    1.74e+16    1.74e+16\n",
      "dayofweek_4                       -3.234e+16    208.803  -1.55e+14      0.000   -3.23e+16   -3.23e+16\n",
      "dayofweek_5                       -4.661e+14    154.323  -3.02e+12      0.000   -4.66e+14   -4.66e+14\n",
      "dayofweek_6                         -3.7e+16     95.405  -3.88e+14      0.000    -3.7e+16    -3.7e+16\n",
      "month_2                            1515.9849   1268.401      1.195      0.232    -970.036    4002.006\n",
      "month_3                           -8347.1023   1105.362     -7.551      0.000   -1.05e+04   -6180.633\n",
      "month_4                           -2.399e+04   1089.206    -22.028      0.000   -2.61e+04   -2.19e+04\n",
      "month_5                           -2.681e+04   1164.720    -23.014      0.000   -2.91e+04   -2.45e+04\n",
      "month_6                           -2.665e+04   1436.296    -18.553      0.000   -2.95e+04   -2.38e+04\n",
      "month_7                           -2.909e+04   1386.346    -20.981      0.000   -3.18e+04   -2.64e+04\n",
      "month_8                           -3.171e+04   1534.917    -20.659      0.000   -3.47e+04   -2.87e+04\n",
      "month_9                           -2.537e+04   1307.596    -19.405      0.000   -2.79e+04   -2.28e+04\n",
      "month_10                           -1.74e+04   1223.508    -14.221      0.000   -1.98e+04    -1.5e+04\n",
      "month_11                              3.1642    997.941      0.003      0.997   -1952.764    1959.092\n",
      "month_12                          -5935.7663    771.575     -7.693      0.000   -7448.025   -4423.508\n",
      "isweekend_1                       -1.291e+17    227.555  -5.67e+14      0.000   -1.29e+17   -1.29e+17\n",
      "isweekend_2                       -1.913e+16    230.726  -8.29e+13      0.000   -1.91e+16   -1.91e+16\n",
      "isweekend_3                       -1.744e+16    228.942  -7.62e+13      0.000   -1.74e+16   -1.74e+16\n",
      "isweekend_4                        3.234e+16    208.803   1.55e+14      0.000    3.23e+16    3.23e+16\n",
      "isweekend_5                        4.661e+14    154.323   3.02e+12      0.000    4.66e+14    4.66e+14\n",
      "isweekend_6                          3.7e+16     95.405   3.88e+14      0.000     3.7e+16     3.7e+16\n",
      "isHoliday_Ascension Day            1.485e+05    826.831    179.584      0.000    1.47e+05     1.5e+05\n",
      "isHoliday_Assumption Day           1.898e+05   2707.790     70.106      0.000    1.85e+05    1.95e+05\n",
      "isHoliday_Christmas Day            1.336e+05   1062.908    125.686      0.000    1.32e+05    1.36e+05\n",
      "isHoliday_Corpus Christi           1.676e+05   1104.746    151.752      0.000    1.65e+05     1.7e+05\n",
      "isHoliday_Easter Monday            1.493e+05   1001.904    149.025      0.000    1.47e+05    1.51e+05\n",
      "isHoliday_Epiphany                 1.919e+05    872.454    219.943      0.000     1.9e+05    1.94e+05\n",
      "isHoliday_German Unity Day         1.535e+05    861.462    178.240      0.000    1.52e+05    1.55e+05\n",
      "isHoliday_Good Friday              1.503e+05    828.872    181.351      0.000    1.49e+05    1.52e+05\n",
      "isHoliday_Labor Day                1.511e+05    919.958    164.267      0.000    1.49e+05    1.53e+05\n",
      "isHoliday_New Year's Day           1.448e+05    680.946    212.702      0.000    1.44e+05    1.46e+05\n",
      "isHoliday_Reformation Day          1.758e+05   1199.019    146.642      0.000    1.73e+05    1.78e+05\n",
      "isHoliday_Second Day of Christmas  1.317e+05    908.386    144.998      0.000     1.3e+05    1.33e+05\n",
      "isHoliday_Whit Monday              1.484e+05   1119.162    132.570      0.000    1.46e+05    1.51e+05\n",
      "isHoliday_non-holiday              2.012e+05    482.486    416.978      0.000       2e+05    2.02e+05\n",
      "ar.L1                                 0.8404      0.003    298.576      0.000       0.835       0.846\n",
      "ma.L1                                 0.2068      0.006     32.269      0.000       0.194       0.219\n",
      "sigma2                             5.737e+07     13.650    4.2e+06      0.000    5.74e+07    5.74e+07\n",
      "===================================================================================\n",
      "Ljung-Box (L1) (Q):                   5.46   Jarque-Bera (JB):           2707852.77\n",
      "Prob(Q):                              0.02   Prob(JB):                         0.00\n",
      "Heteroskedasticity (H):               1.19   Skew:                             0.67\n",
      "Prob(H) (two-sided):                  0.00   Kurtosis:                        58.58\n",
      "===================================================================================\n",
      "\n",
      "Warnings:\n",
      "[1] Covariance matrix calculated using the outer product of gradients (complex-step).\n",
      "[2] Covariance matrix is singular or near-singular, with condition number 4.87e+20. Standard errors may be unstable.\n"
     ]
    }
   ],
   "source": [
    "mod = sm.tsa.statespace.SARIMAX(\n",
    "    y_train, X_train, \n",
    "    # order=(1,1,1), seasonal_order=(1, 0, 1, 24))\n",
    "order=(1,0,1), seasonal_order=(0, 0, 0, 24))\n",
    "res = mod.fit()\n",
    "print(res.summary())"
   ]
  },
  {
   "cell_type": "markdown",
   "metadata": {},
   "source": [
    "## Evaluation Metrics\n",
    "\n",
    "[Clearly specify which metrics you'll use to evaluate the model performance, and why you've chosen these metrics.]\n"
   ]
  },
  {
   "cell_type": "code",
   "outputs": [],
   "source": [
    "df_result = res.predict(start=len(X_train), end=len(X_train) + len(X_test) - 1, exog=X_test)"
   ],
   "metadata": {
    "collapsed": false,
    "ExecuteTime": {
     "end_time": "2024-01-28T22:15:22.111962Z",
     "start_time": "2024-01-28T22:15:21.977114Z"
    }
   },
   "execution_count": 175
  },
  {
   "cell_type": "code",
   "outputs": [
    {
     "data": {
      "text/plain": "2019-05-26 23:00:00+00:00    161812.444844\n2019-05-27 00:00:00+00:00    191466.251220\n2019-05-27 01:00:00+00:00    195848.060229\n2019-05-27 02:00:00+00:00    195974.449675\n2019-05-27 03:00:00+00:00    201470.284941\n                                 ...      \n2019-12-31 18:00:00+00:00    277297.762993\n2019-12-31 19:00:00+00:00    266033.762993\n2019-12-31 20:00:00+00:00    254625.762993\n2019-12-31 21:00:00+00:00    242145.762993\n2019-12-31 22:00:00+00:00    228545.762993\nFreq: H, Name: predicted_mean, Length: 5256, dtype: float64"
     },
     "execution_count": 176,
     "metadata": {},
     "output_type": "execute_result"
    }
   ],
   "source": [
    "df_result"
   ],
   "metadata": {
    "collapsed": false,
    "ExecuteTime": {
     "end_time": "2024-01-28T22:15:23.489604300Z",
     "start_time": "2024-01-28T22:15:23.474582300Z"
    }
   },
   "execution_count": 176
  },
  {
   "cell_type": "code",
   "outputs": [
    {
     "data": {
      "text/plain": "<Axes: xlabel='Date (UTC)'>"
     },
     "execution_count": 177,
     "metadata": {},
     "output_type": "execute_result"
    },
    {
     "data": {
      "text/plain": "<Figure size 640x480 with 1 Axes>",
      "image/png": "[encoded data removed]"
     },
     "metadata": {},
     "output_type": "display_data"
    }
   ],
   "source": [
    "df_result.index = X_test.index\n",
    "df_result.plot()"
   ],
   "metadata": {
    "collapsed": false,
    "ExecuteTime": {
     "end_time": "2024-01-28T22:15:25.569686Z",
     "start_time": "2024-01-28T22:15:25.247562700Z"
    }
   },
   "execution_count": 177
  },
  {
   "cell_type": "code",
   "outputs": [
    {
     "data": {
      "text/plain": "<Axes: xlabel='Date (UTC)'>"
     },
     "execution_count": 178,
     "metadata": {},
     "output_type": "execute_result"
    },
    {
     "data": {
      "text/plain": "<Figure size 640x480 with 1 Axes>",
      "image/png": "[encoded data removed]"
     },
     "metadata": {},
     "output_type": "display_data"
    }
   ],
   "source": [
    "df_residuals = df_result - y_test\n",
    "df_residuals.plot()"
   ],
   "metadata": {
    "collapsed": false,
    "ExecuteTime": {
     "end_time": "2024-01-28T22:15:28.713408400Z",
     "start_time": "2024-01-28T22:15:28.384189800Z"
    }
   },
   "execution_count": 178
  },
  {
   "cell_type": "code",
   "outputs": [
    {
     "data": {
      "text/plain": "        MAE           MSE      RMSE  MAPE %   R2 %\n0  12926.55  3.780120e+08  19442.53     6.3  75.03",
      "text/html": "<div>\n<style scoped>\n    .dataframe tbody tr th:only-of-type {\n        vertical-align: middle;\n    }\n\n    .dataframe tbody tr th {\n        vertical-align: top;\n    }\n\n    .dataframe thead th {\n        text-align: right;\n    }\n</style>\n<table border=\"1\" class=\"dataframe\">\n  <thead>\n    <tr style=\"text-align: right;\">\n      <th></th>\n      <th>MAE</th>\n      <th>MSE</th>\n      <th>RMSE</th>\n      <th>MAPE %</th>\n      <th>R2 %</th>\n    </tr>\n  </thead>\n  <tbody>\n    <tr>\n      <th>0</th>\n      <td>12926.55</td>\n      <td>3.780120e+08</td>\n      <td>19442.53</td>\n      <td>6.3</td>\n      <td>75.03</td>\n    </tr>\n  </tbody>\n</table>\n</div>"
     },
     "execution_count": 179,
     "metadata": {},
     "output_type": "execute_result"
    }
   ],
   "source": [
    "create_error_metrics(y_test, df_result)"
   ],
   "metadata": {
    "collapsed": false,
    "ExecuteTime": {
     "end_time": "2024-01-28T22:15:31.584667800Z",
     "start_time": "2024-01-28T22:15:31.561449500Z"
    }
   },
   "execution_count": 179
  },
  {
   "cell_type": "code",
   "execution_count": 146,
   "metadata": {
    "ExecuteTime": {
     "end_time": "2024-01-28T19:59:41.723542800Z",
     "start_time": "2024-01-28T19:59:41.672980800Z"
    }
   },
   "outputs": [],
   "source": [
    "# Evaluate the model using your chosen metrics\n",
    "# Example for classification\n",
    "# y_pred = model.predict(X_test)\n",
    "# print(classification_report(y_test, y_pred))\n",
    "\n",
    "# Example for regression\n",
    "# mse = mean_squared_error(y_test, y_pred)\n",
    "\n",
    "# Your evaluation code here\n"
   ]
  },
  {
   "cell_type": "markdown",
   "metadata": {},
   "source": [
    "## Comparative Analysis\n",
    "\n",
    "[Compare the performance of your model(s) against the baseline model. Discuss any improvements or setbacks and the reasons behind them.]\n"
   ]
  },
  {
   "cell_type": "code",
   "execution_count": 137,
   "metadata": {
    "ExecuteTime": {
     "end_time": "2024-01-28T17:28:53.223930Z",
     "start_time": "2024-01-28T17:28:53.172601300Z"
    }
   },
   "outputs": [],
   "source": [
    "# Comparative Analysis code (if applicable)\n",
    "# Example: comparing accuracy of the baseline model and the new model\n",
    "# print(f\"Baseline Model Accuracy: {baseline_accuracy}, New Model Accuracy: {new_model_accuracy}\")\n"
   ]
  }
 ],
 "metadata": {
  "language_info": {
   "name": "python"
  },
  "kernelspec": {
   "name": "python3",
   "language": "python",
   "display_name": "Python 3 (ipykernel)"
  }
 },
 "nbformat": 4,
 "nbformat_minor": 2
}
